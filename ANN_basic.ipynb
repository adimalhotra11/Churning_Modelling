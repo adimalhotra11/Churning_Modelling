{
 "cells": [
  {
   "cell_type": "code",
   "execution_count": 1,
   "metadata": {},
   "outputs": [],
   "source": [
    "import pandas as pd"
   ]
  },
  {
   "cell_type": "code",
   "execution_count": 2,
   "metadata": {},
   "outputs": [],
   "source": [
    "import matplotlib.pyplot as plt\n",
    "import seaborn as sns\n",
    "import numpy as np \n"
   ]
  },
  {
   "cell_type": "code",
   "execution_count": 3,
   "metadata": {},
   "outputs": [],
   "source": [
    "df = pd.read_csv('Churn_Modelling.csv')"
   ]
  },
  {
   "cell_type": "code",
   "execution_count": 4,
   "metadata": {},
   "outputs": [
    {
     "data": {
      "text/html": [
       "<div>\n",
       "<style scoped>\n",
       "    .dataframe tbody tr th:only-of-type {\n",
       "        vertical-align: middle;\n",
       "    }\n",
       "\n",
       "    .dataframe tbody tr th {\n",
       "        vertical-align: top;\n",
       "    }\n",
       "\n",
       "    .dataframe thead th {\n",
       "        text-align: right;\n",
       "    }\n",
       "</style>\n",
       "<table border=\"1\" class=\"dataframe\">\n",
       "  <thead>\n",
       "    <tr style=\"text-align: right;\">\n",
       "      <th></th>\n",
       "      <th>RowNumber</th>\n",
       "      <th>CustomerId</th>\n",
       "      <th>Surname</th>\n",
       "      <th>CreditScore</th>\n",
       "      <th>Geography</th>\n",
       "      <th>Gender</th>\n",
       "      <th>Age</th>\n",
       "      <th>Tenure</th>\n",
       "      <th>Balance</th>\n",
       "      <th>NumOfProducts</th>\n",
       "      <th>HasCrCard</th>\n",
       "      <th>IsActiveMember</th>\n",
       "      <th>EstimatedSalary</th>\n",
       "      <th>Exited</th>\n",
       "    </tr>\n",
       "  </thead>\n",
       "  <tbody>\n",
       "    <tr>\n",
       "      <th>0</th>\n",
       "      <td>1</td>\n",
       "      <td>15634602</td>\n",
       "      <td>Hargrave</td>\n",
       "      <td>619</td>\n",
       "      <td>France</td>\n",
       "      <td>Female</td>\n",
       "      <td>42</td>\n",
       "      <td>2</td>\n",
       "      <td>0.00</td>\n",
       "      <td>1</td>\n",
       "      <td>1</td>\n",
       "      <td>1</td>\n",
       "      <td>101348.88</td>\n",
       "      <td>1</td>\n",
       "    </tr>\n",
       "    <tr>\n",
       "      <th>1</th>\n",
       "      <td>2</td>\n",
       "      <td>15647311</td>\n",
       "      <td>Hill</td>\n",
       "      <td>608</td>\n",
       "      <td>Spain</td>\n",
       "      <td>Female</td>\n",
       "      <td>41</td>\n",
       "      <td>1</td>\n",
       "      <td>83807.86</td>\n",
       "      <td>1</td>\n",
       "      <td>0</td>\n",
       "      <td>1</td>\n",
       "      <td>112542.58</td>\n",
       "      <td>0</td>\n",
       "    </tr>\n",
       "    <tr>\n",
       "      <th>2</th>\n",
       "      <td>3</td>\n",
       "      <td>15619304</td>\n",
       "      <td>Onio</td>\n",
       "      <td>502</td>\n",
       "      <td>France</td>\n",
       "      <td>Female</td>\n",
       "      <td>42</td>\n",
       "      <td>8</td>\n",
       "      <td>159660.80</td>\n",
       "      <td>3</td>\n",
       "      <td>1</td>\n",
       "      <td>0</td>\n",
       "      <td>113931.57</td>\n",
       "      <td>1</td>\n",
       "    </tr>\n",
       "    <tr>\n",
       "      <th>3</th>\n",
       "      <td>4</td>\n",
       "      <td>15701354</td>\n",
       "      <td>Boni</td>\n",
       "      <td>699</td>\n",
       "      <td>France</td>\n",
       "      <td>Female</td>\n",
       "      <td>39</td>\n",
       "      <td>1</td>\n",
       "      <td>0.00</td>\n",
       "      <td>2</td>\n",
       "      <td>0</td>\n",
       "      <td>0</td>\n",
       "      <td>93826.63</td>\n",
       "      <td>0</td>\n",
       "    </tr>\n",
       "    <tr>\n",
       "      <th>4</th>\n",
       "      <td>5</td>\n",
       "      <td>15737888</td>\n",
       "      <td>Mitchell</td>\n",
       "      <td>850</td>\n",
       "      <td>Spain</td>\n",
       "      <td>Female</td>\n",
       "      <td>43</td>\n",
       "      <td>2</td>\n",
       "      <td>125510.82</td>\n",
       "      <td>1</td>\n",
       "      <td>1</td>\n",
       "      <td>1</td>\n",
       "      <td>79084.10</td>\n",
       "      <td>0</td>\n",
       "    </tr>\n",
       "  </tbody>\n",
       "</table>\n",
       "</div>"
      ],
      "text/plain": [
       "   RowNumber  CustomerId   Surname  CreditScore Geography  Gender  Age  \\\n",
       "0          1    15634602  Hargrave          619    France  Female   42   \n",
       "1          2    15647311      Hill          608     Spain  Female   41   \n",
       "2          3    15619304      Onio          502    France  Female   42   \n",
       "3          4    15701354      Boni          699    France  Female   39   \n",
       "4          5    15737888  Mitchell          850     Spain  Female   43   \n",
       "\n",
       "   Tenure    Balance  NumOfProducts  HasCrCard  IsActiveMember  \\\n",
       "0       2       0.00              1          1               1   \n",
       "1       1   83807.86              1          0               1   \n",
       "2       8  159660.80              3          1               0   \n",
       "3       1       0.00              2          0               0   \n",
       "4       2  125510.82              1          1               1   \n",
       "\n",
       "   EstimatedSalary  Exited  \n",
       "0        101348.88       1  \n",
       "1        112542.58       0  \n",
       "2        113931.57       1  \n",
       "3         93826.63       0  \n",
       "4         79084.10       0  "
      ]
     },
     "execution_count": 4,
     "metadata": {},
     "output_type": "execute_result"
    }
   ],
   "source": [
    "df.head()"
   ]
  },
  {
   "cell_type": "code",
   "execution_count": 5,
   "metadata": {},
   "outputs": [
    {
     "data": {
      "text/plain": [
       "RowNumber          0\n",
       "CustomerId         0\n",
       "Surname            0\n",
       "CreditScore        0\n",
       "Geography          0\n",
       "Gender             0\n",
       "Age                0\n",
       "Tenure             0\n",
       "Balance            0\n",
       "NumOfProducts      0\n",
       "HasCrCard          0\n",
       "IsActiveMember     0\n",
       "EstimatedSalary    0\n",
       "Exited             0\n",
       "dtype: int64"
      ]
     },
     "execution_count": 5,
     "metadata": {},
     "output_type": "execute_result"
    }
   ],
   "source": [
    "df.isnull().sum()"
   ]
  },
  {
   "cell_type": "code",
   "execution_count": 6,
   "metadata": {},
   "outputs": [
    {
     "name": "stdout",
     "output_type": "stream",
     "text": [
      "<class 'pandas.core.frame.DataFrame'>\n",
      "RangeIndex: 10000 entries, 0 to 9999\n",
      "Data columns (total 14 columns):\n",
      " #   Column           Non-Null Count  Dtype  \n",
      "---  ------           --------------  -----  \n",
      " 0   RowNumber        10000 non-null  int64  \n",
      " 1   CustomerId       10000 non-null  int64  \n",
      " 2   Surname          10000 non-null  object \n",
      " 3   CreditScore      10000 non-null  int64  \n",
      " 4   Geography        10000 non-null  object \n",
      " 5   Gender           10000 non-null  object \n",
      " 6   Age              10000 non-null  int64  \n",
      " 7   Tenure           10000 non-null  int64  \n",
      " 8   Balance          10000 non-null  float64\n",
      " 9   NumOfProducts    10000 non-null  int64  \n",
      " 10  HasCrCard        10000 non-null  int64  \n",
      " 11  IsActiveMember   10000 non-null  int64  \n",
      " 12  EstimatedSalary  10000 non-null  float64\n",
      " 13  Exited           10000 non-null  int64  \n",
      "dtypes: float64(2), int64(9), object(3)\n",
      "memory usage: 1.1+ MB\n"
     ]
    }
   ],
   "source": [
    "df.info()"
   ]
  },
  {
   "cell_type": "code",
   "execution_count": 7,
   "metadata": {},
   "outputs": [
    {
     "data": {
      "text/plain": [
       "Index(['RowNumber', 'CustomerId', 'Surname', 'CreditScore', 'Geography',\n",
       "       'Gender', 'Age', 'Tenure', 'Balance', 'NumOfProducts', 'HasCrCard',\n",
       "       'IsActiveMember', 'EstimatedSalary', 'Exited'],\n",
       "      dtype='object')"
      ]
     },
     "execution_count": 7,
     "metadata": {},
     "output_type": "execute_result"
    }
   ],
   "source": [
    "df.columns"
   ]
  },
  {
   "cell_type": "code",
   "execution_count": 8,
   "metadata": {},
   "outputs": [],
   "source": [
    "X = df.iloc[:,3:13]\n",
    "y = df.Exited"
   ]
  },
  {
   "cell_type": "code",
   "execution_count": 9,
   "metadata": {},
   "outputs": [
    {
     "data": {
      "text/html": [
       "<div>\n",
       "<style scoped>\n",
       "    .dataframe tbody tr th:only-of-type {\n",
       "        vertical-align: middle;\n",
       "    }\n",
       "\n",
       "    .dataframe tbody tr th {\n",
       "        vertical-align: top;\n",
       "    }\n",
       "\n",
       "    .dataframe thead th {\n",
       "        text-align: right;\n",
       "    }\n",
       "</style>\n",
       "<table border=\"1\" class=\"dataframe\">\n",
       "  <thead>\n",
       "    <tr style=\"text-align: right;\">\n",
       "      <th></th>\n",
       "      <th>CreditScore</th>\n",
       "      <th>Geography</th>\n",
       "      <th>Gender</th>\n",
       "      <th>Age</th>\n",
       "      <th>Tenure</th>\n",
       "      <th>Balance</th>\n",
       "      <th>NumOfProducts</th>\n",
       "      <th>HasCrCard</th>\n",
       "      <th>IsActiveMember</th>\n",
       "      <th>EstimatedSalary</th>\n",
       "    </tr>\n",
       "  </thead>\n",
       "  <tbody>\n",
       "    <tr>\n",
       "      <th>0</th>\n",
       "      <td>619</td>\n",
       "      <td>France</td>\n",
       "      <td>Female</td>\n",
       "      <td>42</td>\n",
       "      <td>2</td>\n",
       "      <td>0.00</td>\n",
       "      <td>1</td>\n",
       "      <td>1</td>\n",
       "      <td>1</td>\n",
       "      <td>101348.88</td>\n",
       "    </tr>\n",
       "    <tr>\n",
       "      <th>1</th>\n",
       "      <td>608</td>\n",
       "      <td>Spain</td>\n",
       "      <td>Female</td>\n",
       "      <td>41</td>\n",
       "      <td>1</td>\n",
       "      <td>83807.86</td>\n",
       "      <td>1</td>\n",
       "      <td>0</td>\n",
       "      <td>1</td>\n",
       "      <td>112542.58</td>\n",
       "    </tr>\n",
       "    <tr>\n",
       "      <th>2</th>\n",
       "      <td>502</td>\n",
       "      <td>France</td>\n",
       "      <td>Female</td>\n",
       "      <td>42</td>\n",
       "      <td>8</td>\n",
       "      <td>159660.80</td>\n",
       "      <td>3</td>\n",
       "      <td>1</td>\n",
       "      <td>0</td>\n",
       "      <td>113931.57</td>\n",
       "    </tr>\n",
       "    <tr>\n",
       "      <th>3</th>\n",
       "      <td>699</td>\n",
       "      <td>France</td>\n",
       "      <td>Female</td>\n",
       "      <td>39</td>\n",
       "      <td>1</td>\n",
       "      <td>0.00</td>\n",
       "      <td>2</td>\n",
       "      <td>0</td>\n",
       "      <td>0</td>\n",
       "      <td>93826.63</td>\n",
       "    </tr>\n",
       "    <tr>\n",
       "      <th>4</th>\n",
       "      <td>850</td>\n",
       "      <td>Spain</td>\n",
       "      <td>Female</td>\n",
       "      <td>43</td>\n",
       "      <td>2</td>\n",
       "      <td>125510.82</td>\n",
       "      <td>1</td>\n",
       "      <td>1</td>\n",
       "      <td>1</td>\n",
       "      <td>79084.10</td>\n",
       "    </tr>\n",
       "  </tbody>\n",
       "</table>\n",
       "</div>"
      ],
      "text/plain": [
       "   CreditScore Geography  Gender  Age  Tenure    Balance  NumOfProducts  \\\n",
       "0          619    France  Female   42       2       0.00              1   \n",
       "1          608     Spain  Female   41       1   83807.86              1   \n",
       "2          502    France  Female   42       8  159660.80              3   \n",
       "3          699    France  Female   39       1       0.00              2   \n",
       "4          850     Spain  Female   43       2  125510.82              1   \n",
       "\n",
       "   HasCrCard  IsActiveMember  EstimatedSalary  \n",
       "0          1               1        101348.88  \n",
       "1          0               1        112542.58  \n",
       "2          1               0        113931.57  \n",
       "3          0               0         93826.63  \n",
       "4          1               1         79084.10  "
      ]
     },
     "execution_count": 9,
     "metadata": {},
     "output_type": "execute_result"
    }
   ],
   "source": [
    "X.head()"
   ]
  },
  {
   "cell_type": "code",
   "execution_count": 10,
   "metadata": {},
   "outputs": [],
   "source": [
    "geo = pd.get_dummies(X[\"Geography\"],drop_first=True)\n",
    "gender = pd.get_dummies(X[\"Gender\"],drop_first=True)"
   ]
  },
  {
   "cell_type": "code",
   "execution_count": 11,
   "metadata": {},
   "outputs": [],
   "source": [
    "X = pd.concat([X,geo,gender],axis = 1)"
   ]
  },
  {
   "cell_type": "code",
   "execution_count": 12,
   "metadata": {},
   "outputs": [],
   "source": [
    "X.drop(['Gender','Geography'],axis =1 ,inplace=True)"
   ]
  },
  {
   "cell_type": "code",
   "execution_count": 13,
   "metadata": {},
   "outputs": [
    {
     "data": {
      "text/plain": [
       "(10000, 11)"
      ]
     },
     "execution_count": 13,
     "metadata": {},
     "output_type": "execute_result"
    }
   ],
   "source": [
    "X.shape"
   ]
  },
  {
   "cell_type": "code",
   "execution_count": 14,
   "metadata": {},
   "outputs": [
    {
     "data": {
      "text/html": [
       "<div>\n",
       "<style scoped>\n",
       "    .dataframe tbody tr th:only-of-type {\n",
       "        vertical-align: middle;\n",
       "    }\n",
       "\n",
       "    .dataframe tbody tr th {\n",
       "        vertical-align: top;\n",
       "    }\n",
       "\n",
       "    .dataframe thead th {\n",
       "        text-align: right;\n",
       "    }\n",
       "</style>\n",
       "<table border=\"1\" class=\"dataframe\">\n",
       "  <thead>\n",
       "    <tr style=\"text-align: right;\">\n",
       "      <th></th>\n",
       "      <th>CreditScore</th>\n",
       "      <th>Age</th>\n",
       "      <th>Tenure</th>\n",
       "      <th>Balance</th>\n",
       "      <th>NumOfProducts</th>\n",
       "      <th>HasCrCard</th>\n",
       "      <th>IsActiveMember</th>\n",
       "      <th>EstimatedSalary</th>\n",
       "      <th>Germany</th>\n",
       "      <th>Spain</th>\n",
       "      <th>Male</th>\n",
       "    </tr>\n",
       "  </thead>\n",
       "  <tbody>\n",
       "    <tr>\n",
       "      <th>0</th>\n",
       "      <td>619</td>\n",
       "      <td>42</td>\n",
       "      <td>2</td>\n",
       "      <td>0.00</td>\n",
       "      <td>1</td>\n",
       "      <td>1</td>\n",
       "      <td>1</td>\n",
       "      <td>101348.88</td>\n",
       "      <td>0</td>\n",
       "      <td>0</td>\n",
       "      <td>0</td>\n",
       "    </tr>\n",
       "    <tr>\n",
       "      <th>1</th>\n",
       "      <td>608</td>\n",
       "      <td>41</td>\n",
       "      <td>1</td>\n",
       "      <td>83807.86</td>\n",
       "      <td>1</td>\n",
       "      <td>0</td>\n",
       "      <td>1</td>\n",
       "      <td>112542.58</td>\n",
       "      <td>0</td>\n",
       "      <td>1</td>\n",
       "      <td>0</td>\n",
       "    </tr>\n",
       "    <tr>\n",
       "      <th>2</th>\n",
       "      <td>502</td>\n",
       "      <td>42</td>\n",
       "      <td>8</td>\n",
       "      <td>159660.80</td>\n",
       "      <td>3</td>\n",
       "      <td>1</td>\n",
       "      <td>0</td>\n",
       "      <td>113931.57</td>\n",
       "      <td>0</td>\n",
       "      <td>0</td>\n",
       "      <td>0</td>\n",
       "    </tr>\n",
       "    <tr>\n",
       "      <th>3</th>\n",
       "      <td>699</td>\n",
       "      <td>39</td>\n",
       "      <td>1</td>\n",
       "      <td>0.00</td>\n",
       "      <td>2</td>\n",
       "      <td>0</td>\n",
       "      <td>0</td>\n",
       "      <td>93826.63</td>\n",
       "      <td>0</td>\n",
       "      <td>0</td>\n",
       "      <td>0</td>\n",
       "    </tr>\n",
       "    <tr>\n",
       "      <th>4</th>\n",
       "      <td>850</td>\n",
       "      <td>43</td>\n",
       "      <td>2</td>\n",
       "      <td>125510.82</td>\n",
       "      <td>1</td>\n",
       "      <td>1</td>\n",
       "      <td>1</td>\n",
       "      <td>79084.10</td>\n",
       "      <td>0</td>\n",
       "      <td>1</td>\n",
       "      <td>0</td>\n",
       "    </tr>\n",
       "  </tbody>\n",
       "</table>\n",
       "</div>"
      ],
      "text/plain": [
       "   CreditScore  Age  Tenure    Balance  NumOfProducts  HasCrCard  \\\n",
       "0          619   42       2       0.00              1          1   \n",
       "1          608   41       1   83807.86              1          0   \n",
       "2          502   42       8  159660.80              3          1   \n",
       "3          699   39       1       0.00              2          0   \n",
       "4          850   43       2  125510.82              1          1   \n",
       "\n",
       "   IsActiveMember  EstimatedSalary  Germany  Spain  Male  \n",
       "0               1        101348.88        0      0     0  \n",
       "1               1        112542.58        0      1     0  \n",
       "2               0        113931.57        0      0     0  \n",
       "3               0         93826.63        0      0     0  \n",
       "4               1         79084.10        0      1     0  "
      ]
     },
     "execution_count": 14,
     "metadata": {},
     "output_type": "execute_result"
    }
   ],
   "source": [
    "X.head()"
   ]
  },
  {
   "cell_type": "code",
   "execution_count": 15,
   "metadata": {},
   "outputs": [],
   "source": [
    "from sklearn.model_selection import train_test_split"
   ]
  },
  {
   "cell_type": "code",
   "execution_count": 16,
   "metadata": {},
   "outputs": [],
   "source": [
    "X_train,X_test,y_train,y_test = train_test_split(X,y,test_size=0.2,random_state=0)"
   ]
  },
  {
   "cell_type": "code",
   "execution_count": 17,
   "metadata": {},
   "outputs": [],
   "source": [
    "from sklearn.preprocessing import StandardScaler"
   ]
  },
  {
   "cell_type": "code",
   "execution_count": 18,
   "metadata": {},
   "outputs": [],
   "source": [
    "sc = StandardScaler()"
   ]
  },
  {
   "cell_type": "code",
   "execution_count": 19,
   "metadata": {},
   "outputs": [],
   "source": [
    "X_train = sc.fit_transform(X_train)\n",
    "X_test = sc.transform(X_test)"
   ]
  },
  {
   "cell_type": "markdown",
   "metadata": {},
   "source": [
    "## importing keras libs and packages  "
   ]
  },
  {
   "cell_type": "code",
   "execution_count": 20,
   "metadata": {},
   "outputs": [
    {
     "name": "stderr",
     "output_type": "stream",
     "text": [
      "Using TensorFlow backend.\n",
      "C:\\Users\\Aditya\\Anaconda3\\lib\\site-packages\\tensorflow\\python\\framework\\dtypes.py:516: FutureWarning: Passing (type, 1) or '1type' as a synonym of type is deprecated; in a future version of numpy, it will be understood as (type, (1,)) / '(1,)type'.\n",
      "  _np_qint8 = np.dtype([(\"qint8\", np.int8, 1)])\n",
      "C:\\Users\\Aditya\\Anaconda3\\lib\\site-packages\\tensorflow\\python\\framework\\dtypes.py:517: FutureWarning: Passing (type, 1) or '1type' as a synonym of type is deprecated; in a future version of numpy, it will be understood as (type, (1,)) / '(1,)type'.\n",
      "  _np_quint8 = np.dtype([(\"quint8\", np.uint8, 1)])\n",
      "C:\\Users\\Aditya\\Anaconda3\\lib\\site-packages\\tensorflow\\python\\framework\\dtypes.py:518: FutureWarning: Passing (type, 1) or '1type' as a synonym of type is deprecated; in a future version of numpy, it will be understood as (type, (1,)) / '(1,)type'.\n",
      "  _np_qint16 = np.dtype([(\"qint16\", np.int16, 1)])\n",
      "C:\\Users\\Aditya\\Anaconda3\\lib\\site-packages\\tensorflow\\python\\framework\\dtypes.py:519: FutureWarning: Passing (type, 1) or '1type' as a synonym of type is deprecated; in a future version of numpy, it will be understood as (type, (1,)) / '(1,)type'.\n",
      "  _np_quint16 = np.dtype([(\"quint16\", np.uint16, 1)])\n",
      "C:\\Users\\Aditya\\Anaconda3\\lib\\site-packages\\tensorflow\\python\\framework\\dtypes.py:520: FutureWarning: Passing (type, 1) or '1type' as a synonym of type is deprecated; in a future version of numpy, it will be understood as (type, (1,)) / '(1,)type'.\n",
      "  _np_qint32 = np.dtype([(\"qint32\", np.int32, 1)])\n",
      "C:\\Users\\Aditya\\Anaconda3\\lib\\site-packages\\tensorflow\\python\\framework\\dtypes.py:525: FutureWarning: Passing (type, 1) or '1type' as a synonym of type is deprecated; in a future version of numpy, it will be understood as (type, (1,)) / '(1,)type'.\n",
      "  np_resource = np.dtype([(\"resource\", np.ubyte, 1)])\n",
      "C:\\Users\\Aditya\\Anaconda3\\lib\\site-packages\\tensorboard\\compat\\tensorflow_stub\\dtypes.py:541: FutureWarning: Passing (type, 1) or '1type' as a synonym of type is deprecated; in a future version of numpy, it will be understood as (type, (1,)) / '(1,)type'.\n",
      "  _np_qint8 = np.dtype([(\"qint8\", np.int8, 1)])\n",
      "C:\\Users\\Aditya\\Anaconda3\\lib\\site-packages\\tensorboard\\compat\\tensorflow_stub\\dtypes.py:542: FutureWarning: Passing (type, 1) or '1type' as a synonym of type is deprecated; in a future version of numpy, it will be understood as (type, (1,)) / '(1,)type'.\n",
      "  _np_quint8 = np.dtype([(\"quint8\", np.uint8, 1)])\n",
      "C:\\Users\\Aditya\\Anaconda3\\lib\\site-packages\\tensorboard\\compat\\tensorflow_stub\\dtypes.py:543: FutureWarning: Passing (type, 1) or '1type' as a synonym of type is deprecated; in a future version of numpy, it will be understood as (type, (1,)) / '(1,)type'.\n",
      "  _np_qint16 = np.dtype([(\"qint16\", np.int16, 1)])\n",
      "C:\\Users\\Aditya\\Anaconda3\\lib\\site-packages\\tensorboard\\compat\\tensorflow_stub\\dtypes.py:544: FutureWarning: Passing (type, 1) or '1type' as a synonym of type is deprecated; in a future version of numpy, it will be understood as (type, (1,)) / '(1,)type'.\n",
      "  _np_quint16 = np.dtype([(\"quint16\", np.uint16, 1)])\n",
      "C:\\Users\\Aditya\\Anaconda3\\lib\\site-packages\\tensorboard\\compat\\tensorflow_stub\\dtypes.py:545: FutureWarning: Passing (type, 1) or '1type' as a synonym of type is deprecated; in a future version of numpy, it will be understood as (type, (1,)) / '(1,)type'.\n",
      "  _np_qint32 = np.dtype([(\"qint32\", np.int32, 1)])\n",
      "C:\\Users\\Aditya\\Anaconda3\\lib\\site-packages\\tensorboard\\compat\\tensorflow_stub\\dtypes.py:550: FutureWarning: Passing (type, 1) or '1type' as a synonym of type is deprecated; in a future version of numpy, it will be understood as (type, (1,)) / '(1,)type'.\n",
      "  np_resource = np.dtype([(\"resource\", np.ubyte, 1)])\n"
     ]
    }
   ],
   "source": [
    "import keras"
   ]
  },
  {
   "cell_type": "code",
   "execution_count": 21,
   "metadata": {},
   "outputs": [],
   "source": [
    "from keras.models import Sequential\n",
    "from keras.layers import Dense\n",
    "from keras.layers import LeakyReLU\n",
    "from keras.layers import Dropout"
   ]
  },
  {
   "cell_type": "code",
   "execution_count": 22,
   "metadata": {},
   "outputs": [],
   "source": [
    "classifier = Sequential()"
   ]
  },
  {
   "cell_type": "code",
   "execution_count": 23,
   "metadata": {},
   "outputs": [],
   "source": [
    "classifier.add(Dense(units=6,kernel_initializer='he_uniform',activation='relu',input_dim=11))\n",
    "classifier.add(Dense(units=6,kernel_initializer='he_uniform',activation='relu'))\n",
    "classifier.add(Dense(units=1,kernel_initializer='glorot_uniform',activation='sigmoid'))"
   ]
  },
  {
   "cell_type": "code",
   "execution_count": 24,
   "metadata": {},
   "outputs": [
    {
     "name": "stdout",
     "output_type": "stream",
     "text": [
      "WARNING:tensorflow:From C:\\Users\\Aditya\\Anaconda3\\lib\\site-packages\\tensorflow\\python\\ops\\nn_impl.py:180: add_dispatch_support.<locals>.wrapper (from tensorflow.python.ops.array_ops) is deprecated and will be removed in a future version.\n",
      "Instructions for updating:\n",
      "Use tf.where in 2.0, which has the same broadcast rule as np.where\n"
     ]
    }
   ],
   "source": [
    "classifier.compile(optimizer='adam',loss = 'binary_crossentropy',metrics=['accuracy'])"
   ]
  },
  {
   "cell_type": "code",
   "execution_count": 25,
   "metadata": {},
   "outputs": [
    {
     "name": "stdout",
     "output_type": "stream",
     "text": [
      "Model: \"sequential_1\"\n",
      "_________________________________________________________________\n",
      "Layer (type)                 Output Shape              Param #   \n",
      "=================================================================\n",
      "dense_1 (Dense)              (None, 6)                 72        \n",
      "_________________________________________________________________\n",
      "dense_2 (Dense)              (None, 6)                 42        \n",
      "_________________________________________________________________\n",
      "dense_3 (Dense)              (None, 1)                 7         \n",
      "=================================================================\n",
      "Total params: 121\n",
      "Trainable params: 121\n",
      "Non-trainable params: 0\n",
      "_________________________________________________________________\n"
     ]
    }
   ],
   "source": [
    "classifier.summary()"
   ]
  },
  {
   "cell_type": "code",
   "execution_count": 26,
   "metadata": {
    "scrolled": false
   },
   "outputs": [
    {
     "name": "stderr",
     "output_type": "stream",
     "text": [
      "C:\\Users\\Aditya\\Anaconda3\\lib\\site-packages\\ipykernel_launcher.py:1: UserWarning: The `nb_epoch` argument in `fit` has been renamed `epochs`.\n",
      "  \"\"\"Entry point for launching an IPython kernel.\n"
     ]
    },
    {
     "name": "stdout",
     "output_type": "stream",
     "text": [
      "WARNING:tensorflow:From C:\\Users\\Aditya\\Anaconda3\\lib\\site-packages\\keras\\backend\\tensorflow_backend.py:422: The name tf.global_variables is deprecated. Please use tf.compat.v1.global_variables instead.\n",
      "\n",
      "Train on 5359 samples, validate on 2641 samples\n",
      "Epoch 1/100\n",
      "5359/5359 [==============================] - 3s 595us/step - loss: 0.5279 - accuracy: 0.7639 - val_loss: 0.4850 - val_accuracy: 0.7959\n",
      "Epoch 2/100\n",
      "5359/5359 [==============================] - 2s 372us/step - loss: 0.4541 - accuracy: 0.8065 - val_loss: 0.4532 - val_accuracy: 0.8065\n",
      "Epoch 3/100\n",
      "5359/5359 [==============================] - 2s 288us/step - loss: 0.4336 - accuracy: 0.8181 - val_loss: 0.4412 - val_accuracy: 0.8092\n",
      "Epoch 4/100\n",
      "5359/5359 [==============================] - 1s 252us/step - loss: 0.4237 - accuracy: 0.8250 - val_loss: 0.4339 - val_accuracy: 0.8111\n",
      "Epoch 5/100\n",
      "5359/5359 [==============================] - 1s 264us/step - loss: 0.4170 - accuracy: 0.8276 - val_loss: 0.4286 - val_accuracy: 0.8111\n",
      "Epoch 6/100\n",
      "5359/5359 [==============================] - 2s 302us/step - loss: 0.4123 - accuracy: 0.8321 - val_loss: 0.4248 - val_accuracy: 0.8152\n",
      "Epoch 7/100\n",
      "5359/5359 [==============================] - 1s 266us/step - loss: 0.4093 - accuracy: 0.8326 - val_loss: 0.4225 - val_accuracy: 0.8175\n",
      "Epoch 8/100\n",
      "5359/5359 [==============================] - 1s 261us/step - loss: 0.4073 - accuracy: 0.8354 - val_loss: 0.4208 - val_accuracy: 0.8201\n",
      "Epoch 9/100\n",
      "5359/5359 [==============================] - 1s 279us/step - loss: 0.4053 - accuracy: 0.8352 - val_loss: 0.4195 - val_accuracy: 0.8194\n",
      "Epoch 10/100\n",
      "5359/5359 [==============================] - 1s 258us/step - loss: 0.4039 - accuracy: 0.8362 - val_loss: 0.4184 - val_accuracy: 0.8198\n",
      "Epoch 11/100\n",
      "5359/5359 [==============================] - 2s 282us/step - loss: 0.4026 - accuracy: 0.8360 - val_loss: 0.4176 - val_accuracy: 0.8228\n",
      "Epoch 12/100\n",
      "5359/5359 [==============================] - 1s 235us/step - loss: 0.4012 - accuracy: 0.8364 - val_loss: 0.4166 - val_accuracy: 0.8239\n",
      "Epoch 13/100\n",
      "5359/5359 [==============================] - 1s 216us/step - loss: 0.3993 - accuracy: 0.8377 - val_loss: 0.4163 - val_accuracy: 0.8224\n",
      "Epoch 14/100\n",
      "5359/5359 [==============================] - 1s 226us/step - loss: 0.3969 - accuracy: 0.8397 - val_loss: 0.4133 - val_accuracy: 0.8239\n",
      "Epoch 15/100\n",
      "5359/5359 [==============================] - 1s 218us/step - loss: 0.3946 - accuracy: 0.8405 - val_loss: 0.4113 - val_accuracy: 0.8251\n",
      "Epoch 16/100\n",
      "5359/5359 [==============================] - 1s 245us/step - loss: 0.3916 - accuracy: 0.8416 - val_loss: 0.4086 - val_accuracy: 0.8266\n",
      "Epoch 17/100\n",
      "5359/5359 [==============================] - 1s 245us/step - loss: 0.3881 - accuracy: 0.8433 - val_loss: 0.4052 - val_accuracy: 0.8292\n",
      "Epoch 18/100\n",
      "5359/5359 [==============================] - 1s 227us/step - loss: 0.3846 - accuracy: 0.8447 - val_loss: 0.4018 - val_accuracy: 0.8307\n",
      "Epoch 19/100\n",
      "5359/5359 [==============================] - 1s 245us/step - loss: 0.3809 - accuracy: 0.8462 - val_loss: 0.4015 - val_accuracy: 0.8277\n",
      "Epoch 20/100\n",
      "5359/5359 [==============================] - 1s 260us/step - loss: 0.3770 - accuracy: 0.8483 - val_loss: 0.3971 - val_accuracy: 0.8326\n",
      "Epoch 21/100\n",
      "5359/5359 [==============================] - 1s 263us/step - loss: 0.3741 - accuracy: 0.8502 - val_loss: 0.3938 - val_accuracy: 0.8342\n",
      "Epoch 22/100\n",
      "5359/5359 [==============================] - 1s 255us/step - loss: 0.3703 - accuracy: 0.8492 - val_loss: 0.3897 - val_accuracy: 0.8357\n",
      "Epoch 23/100\n",
      "5359/5359 [==============================] - 1s 256us/step - loss: 0.3659 - accuracy: 0.8500 - val_loss: 0.3851 - val_accuracy: 0.8395\n",
      "Epoch 24/100\n",
      "5359/5359 [==============================] - 1s 248us/step - loss: 0.3624 - accuracy: 0.8518 - val_loss: 0.3831 - val_accuracy: 0.8395\n",
      "Epoch 25/100\n",
      "5359/5359 [==============================] - 1s 263us/step - loss: 0.3593 - accuracy: 0.8541 - val_loss: 0.3790 - val_accuracy: 0.8410\n",
      "Epoch 26/100\n",
      "5359/5359 [==============================] - 1s 226us/step - loss: 0.3554 - accuracy: 0.8520 - val_loss: 0.3765 - val_accuracy: 0.8429\n",
      "Epoch 27/100\n",
      "5359/5359 [==============================] - 1s 229us/step - loss: 0.3523 - accuracy: 0.8543 - val_loss: 0.3730 - val_accuracy: 0.8429\n",
      "Epoch 28/100\n",
      "5359/5359 [==============================] - 1s 209us/step - loss: 0.3491 - accuracy: 0.8545 - val_loss: 0.3705 - val_accuracy: 0.8432\n",
      "Epoch 29/100\n",
      "5359/5359 [==============================] - 1s 241us/step - loss: 0.3466 - accuracy: 0.8541 - val_loss: 0.3703 - val_accuracy: 0.8440\n",
      "Epoch 30/100\n",
      "5359/5359 [==============================] - 1s 222us/step - loss: 0.3449 - accuracy: 0.8548 - val_loss: 0.3681 - val_accuracy: 0.8432\n",
      "Epoch 31/100\n",
      "5359/5359 [==============================] - 1s 222us/step - loss: 0.3421 - accuracy: 0.8552 - val_loss: 0.3686 - val_accuracy: 0.8451\n",
      "Epoch 32/100\n",
      "5359/5359 [==============================] - 1s 231us/step - loss: 0.3414 - accuracy: 0.8556 - val_loss: 0.3653 - val_accuracy: 0.8478\n",
      "Epoch 33/100\n",
      "5359/5359 [==============================] - 1s 261us/step - loss: 0.3405 - accuracy: 0.8561 - val_loss: 0.3647 - val_accuracy: 0.8474\n",
      "Epoch 34/100\n",
      "5359/5359 [==============================] - 1s 218us/step - loss: 0.3393 - accuracy: 0.8558 - val_loss: 0.3647 - val_accuracy: 0.8482\n",
      "Epoch 35/100\n",
      "5359/5359 [==============================] - 1s 224us/step - loss: 0.3389 - accuracy: 0.8591 - val_loss: 0.3647 - val_accuracy: 0.8504\n",
      "Epoch 36/100\n",
      "5359/5359 [==============================] - 1s 221us/step - loss: 0.3378 - accuracy: 0.8606 - val_loss: 0.3623 - val_accuracy: 0.8531\n",
      "Epoch 37/100\n",
      "5359/5359 [==============================] - 1s 213us/step - loss: 0.3369 - accuracy: 0.8606 - val_loss: 0.3638 - val_accuracy: 0.8527\n",
      "Epoch 38/100\n",
      "5359/5359 [==============================] - 1s 217us/step - loss: 0.3365 - accuracy: 0.8604 - val_loss: 0.3622 - val_accuracy: 0.8535\n",
      "Epoch 39/100\n",
      "5359/5359 [==============================] - 1s 215us/step - loss: 0.3364 - accuracy: 0.8597 - val_loss: 0.3608 - val_accuracy: 0.8535\n",
      "Epoch 40/100\n",
      "5359/5359 [==============================] - 1s 204us/step - loss: 0.3356 - accuracy: 0.8604 - val_loss: 0.3607 - val_accuracy: 0.8554\n",
      "Epoch 41/100\n",
      "5359/5359 [==============================] - 1s 211us/step - loss: 0.3355 - accuracy: 0.8604 - val_loss: 0.3612 - val_accuracy: 0.8523\n",
      "Epoch 42/100\n",
      "5359/5359 [==============================] - 1s 218us/step - loss: 0.3346 - accuracy: 0.8612 - val_loss: 0.3610 - val_accuracy: 0.8561\n",
      "Epoch 43/100\n",
      "5359/5359 [==============================] - 1s 213us/step - loss: 0.3349 - accuracy: 0.8600 - val_loss: 0.3609 - val_accuracy: 0.8576\n",
      "Epoch 44/100\n",
      "5359/5359 [==============================] - 1s 212us/step - loss: 0.3344 - accuracy: 0.8597 - val_loss: 0.3617 - val_accuracy: 0.8565\n",
      "Epoch 45/100\n",
      "5359/5359 [==============================] - 1s 232us/step - loss: 0.3342 - accuracy: 0.8608 - val_loss: 0.3613 - val_accuracy: 0.8557\n",
      "Epoch 46/100\n",
      "5359/5359 [==============================] - 1s 242us/step - loss: 0.3340 - accuracy: 0.8599 - val_loss: 0.3603 - val_accuracy: 0.8542\n",
      "Epoch 47/100\n",
      "5359/5359 [==============================] - 2s 311us/step - loss: 0.3339 - accuracy: 0.8623 - val_loss: 0.3590 - val_accuracy: 0.8591\n",
      "Epoch 48/100\n",
      "5359/5359 [==============================] - 1s 276us/step - loss: 0.3335 - accuracy: 0.8623 - val_loss: 0.3611 - val_accuracy: 0.8569\n",
      "Epoch 49/100\n",
      "5359/5359 [==============================] - 2s 283us/step - loss: 0.3335 - accuracy: 0.8625 - val_loss: 0.3588 - val_accuracy: 0.8580\n",
      "Epoch 50/100\n",
      "5359/5359 [==============================] - 1s 251us/step - loss: 0.3326 - accuracy: 0.8614 - val_loss: 0.3624 - val_accuracy: 0.8550\n",
      "Epoch 51/100\n",
      "5359/5359 [==============================] - 1s 263us/step - loss: 0.3330 - accuracy: 0.8621 - val_loss: 0.3589 - val_accuracy: 0.8584\n",
      "Epoch 52/100\n",
      "5359/5359 [==============================] - 1s 254us/step - loss: 0.3325 - accuracy: 0.8621 - val_loss: 0.3600 - val_accuracy: 0.8584\n",
      "Epoch 53/100\n",
      "5359/5359 [==============================] - 1s 276us/step - loss: 0.3330 - accuracy: 0.8612 - val_loss: 0.3586 - val_accuracy: 0.8576\n",
      "Epoch 54/100\n",
      "5359/5359 [==============================] - 1s 263us/step - loss: 0.3321 - accuracy: 0.8627 - val_loss: 0.3582 - val_accuracy: 0.8584\n"
     ]
    },
    {
     "name": "stdout",
     "output_type": "stream",
     "text": [
      "Epoch 55/100\n",
      "5359/5359 [==============================] - 2s 281us/step - loss: 0.3313 - accuracy: 0.8628 - val_loss: 0.3595 - val_accuracy: 0.8618\n",
      "Epoch 56/100\n",
      "5359/5359 [==============================] - 1s 268us/step - loss: 0.3325 - accuracy: 0.8614 - val_loss: 0.3612 - val_accuracy: 0.8588\n",
      "Epoch 57/100\n",
      "5359/5359 [==============================] - 2s 283us/step - loss: 0.3321 - accuracy: 0.8619 - val_loss: 0.3605 - val_accuracy: 0.8588\n",
      "Epoch 58/100\n",
      "5359/5359 [==============================] - 1s 279us/step - loss: 0.3314 - accuracy: 0.8614 - val_loss: 0.3600 - val_accuracy: 0.8584\n",
      "Epoch 59/100\n",
      "5359/5359 [==============================] - 1s 228us/step - loss: 0.3317 - accuracy: 0.8615 - val_loss: 0.3575 - val_accuracy: 0.8580\n",
      "Epoch 60/100\n",
      "5359/5359 [==============================] - 1s 247us/step - loss: 0.3304 - accuracy: 0.8627 - val_loss: 0.3588 - val_accuracy: 0.8610\n",
      "Epoch 61/100\n",
      "5359/5359 [==============================] - 1s 218us/step - loss: 0.3315 - accuracy: 0.8621 - val_loss: 0.3583 - val_accuracy: 0.8580\n",
      "Epoch 62/100\n",
      "5359/5359 [==============================] - 1s 236us/step - loss: 0.3304 - accuracy: 0.8625 - val_loss: 0.3581 - val_accuracy: 0.8595\n",
      "Epoch 63/100\n",
      "5359/5359 [==============================] - 1s 221us/step - loss: 0.3317 - accuracy: 0.8619 - val_loss: 0.3574 - val_accuracy: 0.8569\n",
      "Epoch 64/100\n",
      "5359/5359 [==============================] - 1s 228us/step - loss: 0.3310 - accuracy: 0.8634 - val_loss: 0.3574 - val_accuracy: 0.8591\n",
      "Epoch 65/100\n",
      "5359/5359 [==============================] - 1s 226us/step - loss: 0.3306 - accuracy: 0.8638 - val_loss: 0.3594 - val_accuracy: 0.8573\n",
      "Epoch 66/100\n",
      "5359/5359 [==============================] - 1s 234us/step - loss: 0.3300 - accuracy: 0.8643 - val_loss: 0.3599 - val_accuracy: 0.8565\n",
      "Epoch 67/100\n",
      "5359/5359 [==============================] - 1s 236us/step - loss: 0.3301 - accuracy: 0.8632 - val_loss: 0.3590 - val_accuracy: 0.8576\n",
      "Epoch 68/100\n",
      "5359/5359 [==============================] - 1s 246us/step - loss: 0.3298 - accuracy: 0.8643 - val_loss: 0.3576 - val_accuracy: 0.8557\n",
      "Epoch 69/100\n",
      "5359/5359 [==============================] - 1s 213us/step - loss: 0.3298 - accuracy: 0.8623 - val_loss: 0.3578 - val_accuracy: 0.8561\n",
      "Epoch 70/100\n",
      "5359/5359 [==============================] - 1s 216us/step - loss: 0.3291 - accuracy: 0.8638 - val_loss: 0.3578 - val_accuracy: 0.8591\n",
      "Epoch 71/100\n",
      "5359/5359 [==============================] - 1s 216us/step - loss: 0.3302 - accuracy: 0.8612 - val_loss: 0.3565 - val_accuracy: 0.8591\n",
      "Epoch 72/100\n",
      "5359/5359 [==============================] - 1s 230us/step - loss: 0.3294 - accuracy: 0.8628 - val_loss: 0.3579 - val_accuracy: 0.8576\n",
      "Epoch 73/100\n",
      "5359/5359 [==============================] - 2s 338us/step - loss: 0.3295 - accuracy: 0.8625 - val_loss: 0.3569 - val_accuracy: 0.8580\n",
      "Epoch 74/100\n",
      "5359/5359 [==============================] - 1s 239us/step - loss: 0.3298 - accuracy: 0.8630 - val_loss: 0.3582 - val_accuracy: 0.8573\n",
      "Epoch 75/100\n",
      "5359/5359 [==============================] - 1s 211us/step - loss: 0.3292 - accuracy: 0.8621 - val_loss: 0.3577 - val_accuracy: 0.8569\n",
      "Epoch 76/100\n",
      "5359/5359 [==============================] - 1s 222us/step - loss: 0.3296 - accuracy: 0.8625 - val_loss: 0.3575 - val_accuracy: 0.8584\n",
      "Epoch 77/100\n",
      "5359/5359 [==============================] - 1s 215us/step - loss: 0.3290 - accuracy: 0.8640 - val_loss: 0.3604 - val_accuracy: 0.8554\n",
      "Epoch 78/100\n",
      "5359/5359 [==============================] - 1s 209us/step - loss: 0.3291 - accuracy: 0.8636 - val_loss: 0.3588 - val_accuracy: 0.8573\n",
      "Epoch 79/100\n",
      "5359/5359 [==============================] - 1s 210us/step - loss: 0.3290 - accuracy: 0.8615 - val_loss: 0.3573 - val_accuracy: 0.8580\n",
      "Epoch 80/100\n",
      "5359/5359 [==============================] - 1s 214us/step - loss: 0.3286 - accuracy: 0.8619 - val_loss: 0.3590 - val_accuracy: 0.8573\n",
      "Epoch 81/100\n",
      "5359/5359 [==============================] - 1s 211us/step - loss: 0.3291 - accuracy: 0.8621 - val_loss: 0.3595 - val_accuracy: 0.8569\n",
      "Epoch 82/100\n",
      "5359/5359 [==============================] - 1s 216us/step - loss: 0.3283 - accuracy: 0.8608 - val_loss: 0.3605 - val_accuracy: 0.8565\n",
      "Epoch 83/100\n",
      "5359/5359 [==============================] - 1s 215us/step - loss: 0.3296 - accuracy: 0.8604 - val_loss: 0.3577 - val_accuracy: 0.8576\n",
      "Epoch 84/100\n",
      "5359/5359 [==============================] - 1s 207us/step - loss: 0.3284 - accuracy: 0.8632 - val_loss: 0.3598 - val_accuracy: 0.8557\n",
      "Epoch 85/100\n",
      "5359/5359 [==============================] - 1s 212us/step - loss: 0.3286 - accuracy: 0.8632 - val_loss: 0.3572 - val_accuracy: 0.8557\n",
      "Epoch 86/100\n",
      "5359/5359 [==============================] - 1s 214us/step - loss: 0.3281 - accuracy: 0.8619 - val_loss: 0.3600 - val_accuracy: 0.8554\n",
      "Epoch 87/100\n",
      "5359/5359 [==============================] - 1s 211us/step - loss: 0.3287 - accuracy: 0.8651 - val_loss: 0.3583 - val_accuracy: 0.8576\n",
      "Epoch 88/100\n",
      "5359/5359 [==============================] - 1s 207us/step - loss: 0.3286 - accuracy: 0.8625 - val_loss: 0.3575 - val_accuracy: 0.8569\n",
      "Epoch 89/100\n",
      "5359/5359 [==============================] - 1s 211us/step - loss: 0.3281 - accuracy: 0.8638 - val_loss: 0.3604 - val_accuracy: 0.8557\n",
      "Epoch 90/100\n",
      "5359/5359 [==============================] - 1s 209us/step - loss: 0.3286 - accuracy: 0.8619 - val_loss: 0.3573 - val_accuracy: 0.8565\n",
      "Epoch 91/100\n",
      "5359/5359 [==============================] - 1s 205us/step - loss: 0.3284 - accuracy: 0.8643 - val_loss: 0.3584 - val_accuracy: 0.8599\n",
      "Epoch 92/100\n",
      "5359/5359 [==============================] - 1s 214us/step - loss: 0.3278 - accuracy: 0.8638 - val_loss: 0.3603 - val_accuracy: 0.8576\n",
      "Epoch 93/100\n",
      "5359/5359 [==============================] - 1s 212us/step - loss: 0.3281 - accuracy: 0.8630 - val_loss: 0.3589 - val_accuracy: 0.8561\n",
      "Epoch 94/100\n",
      "5359/5359 [==============================] - 1s 213us/step - loss: 0.3275 - accuracy: 0.8619 - val_loss: 0.3595 - val_accuracy: 0.8557\n",
      "Epoch 95/100\n",
      "5359/5359 [==============================] - 1s 209us/step - loss: 0.3272 - accuracy: 0.8630 - val_loss: 0.3604 - val_accuracy: 0.8573\n",
      "Epoch 96/100\n",
      "5359/5359 [==============================] - 1s 211us/step - loss: 0.3280 - accuracy: 0.8656 - val_loss: 0.3615 - val_accuracy: 0.8569\n",
      "Epoch 97/100\n",
      "5359/5359 [==============================] - 1s 209us/step - loss: 0.3274 - accuracy: 0.8634 - val_loss: 0.3585 - val_accuracy: 0.8576\n",
      "Epoch 98/100\n",
      "5359/5359 [==============================] - 1s 217us/step - loss: 0.3278 - accuracy: 0.8628 - val_loss: 0.3575 - val_accuracy: 0.8588\n",
      "Epoch 99/100\n",
      "5359/5359 [==============================] - 1s 211us/step - loss: 0.3279 - accuracy: 0.8634 - val_loss: 0.3630 - val_accuracy: 0.8565\n",
      "Epoch 100/100\n",
      "5359/5359 [==============================] - 1s 204us/step - loss: 0.3277 - accuracy: 0.8655 - val_loss: 0.3577 - val_accuracy: 0.8584\n"
     ]
    }
   ],
   "source": [
    "model_history = classifier.fit(X_train,y_train,validation_split=0.33,batch_size=10,nb_epoch=100)"
   ]
  },
  {
   "cell_type": "code",
   "execution_count": 28,
   "metadata": {},
   "outputs": [],
   "source": [
    "y_pred = classifier.predict(X_test)"
   ]
  },
  {
   "cell_type": "code",
   "execution_count": 29,
   "metadata": {},
   "outputs": [],
   "source": [
    "y_pred = (y_pred>0.5)"
   ]
  },
  {
   "cell_type": "code",
   "execution_count": 30,
   "metadata": {},
   "outputs": [],
   "source": [
    "from sklearn.metrics import confusion_matrix"
   ]
  },
  {
   "cell_type": "code",
   "execution_count": 32,
   "metadata": {},
   "outputs": [
    {
     "name": "stdout",
     "output_type": "stream",
     "text": [
      "[[1493  102]\n",
      " [ 188  217]]\n"
     ]
    }
   ],
   "source": [
    "cm = confusion_matrix(y_test,y_pred)\n",
    "print(cm)"
   ]
  },
  {
   "cell_type": "code",
   "execution_count": 33,
   "metadata": {},
   "outputs": [],
   "source": [
    "from sklearn.metrics import accuracy_score"
   ]
  },
  {
   "cell_type": "code",
   "execution_count": 34,
   "metadata": {},
   "outputs": [],
   "source": [
    "score = accuracy_score(y_test,y_pred)"
   ]
  },
  {
   "cell_type": "code",
   "execution_count": 35,
   "metadata": {},
   "outputs": [
    {
     "name": "stdout",
     "output_type": "stream",
     "text": [
      "0.855\n"
     ]
    }
   ],
   "source": [
    "print(score)"
   ]
  },
  {
   "cell_type": "code",
   "execution_count": null,
   "metadata": {},
   "outputs": [],
   "source": [
    "    "
   ]
  }
 ],
 "metadata": {
  "kernelspec": {
   "display_name": "Python 3",
   "language": "python",
   "name": "python3"
  },
  "language_info": {
   "codemirror_mode": {
    "name": "ipython",
    "version": 3
   },
   "file_extension": ".py",
   "mimetype": "text/x-python",
   "name": "python",
   "nbconvert_exporter": "python",
   "pygments_lexer": "ipython3",
   "version": "3.7.3"
  }
 },
 "nbformat": 4,
 "nbformat_minor": 4
}
